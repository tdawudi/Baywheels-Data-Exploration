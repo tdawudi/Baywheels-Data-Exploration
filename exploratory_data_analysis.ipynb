{
 "cells": [
  {
   "cell_type": "markdown",
   "metadata": {},
   "source": [
    "# Bay Wheels Data Exploration Project"
   ]
  },
  {
   "cell_type": "markdown",
   "metadata": {},
   "source": [
    "# Talal Al-Dawudi"
   ]
  },
  {
   "cell_type": "markdown",
   "metadata": {},
   "source": [
    "## Introduction"
   ]
  },
  {
   "cell_type": "markdown",
   "metadata": {},
   "source": [
    "Bay Wheels, formerly known as Ford GoBike, is a bike sharing service operating in San Francisco Bay Area, in California. With its growing availability, increasing supply of electric bikes to their range, and mounting number of annual subscribers, Bay Wheels has become a major option for both daily commuters and casual users.\n",
    "\n",
    "This project aims to dive deeper into the Bay Wheels' data to gain a deeper understanding of their operations. The dataset used for this analysis is comprised of Bay Wheels' 2019 data (January through December), which is available to us in CSV format on the company's website."
   ]
  },
  {
   "cell_type": "markdown",
   "metadata": {},
   "source": [
    "## Preliminary Wrangling"
   ]
  },
  {
   "cell_type": "markdown",
   "metadata": {},
   "source": [
    "I will be wrangling data for January-December 2019. This data is given to us as separate monthly CSV's, so I will use glob to store and merge the files into one dataset: \"2019_baywheels_data.csv\". The dataset will encompass approximately 2,506,983 rides, over the course of the 12 month period."
   ]
  },
  {
   "cell_type": "markdown",
   "metadata": {},
   "source": [
    "### Gathering  Data"
   ]
  },
  {
   "cell_type": "markdown",
   "metadata": {},
   "source": [
    "In this stage, I will gather the data required for the exploration. This will be a relatively simple task, as I am going to read a CSV that was downloaded to my laptop from the Bay Wheels website."
   ]
  },
  {
   "cell_type": "code",
   "execution_count": 17,
   "metadata": {},
   "outputs": [],
   "source": [
    "import numpy as np\n",
    "import pandas as pd\n",
    "import matplotlib.pyplot as plt\n",
    "%matplotlib inline\n",
    "import seaborn as sb\n",
    "import os\n",
    "import glob\n",
    "import math\n",
    "from math import radians, sin, cos, acos"
   ]
  },
  {
   "cell_type": "code",
   "execution_count": 18,
   "metadata": {},
   "outputs": [
    {
     "name": "stderr",
     "output_type": "stream",
     "text": [
      "/Users/talaldawudi/opt/anaconda3/lib/python3.7/site-packages/ipykernel_launcher.py:5: DtypeWarning: Columns (13,14) have mixed types.Specify dtype option on import or set low_memory=False.\n",
      "  \"\"\"\n",
      "/Users/talaldawudi/opt/anaconda3/lib/python3.7/site-packages/ipykernel_launcher.py:5: DtypeWarning: Columns (14) have mixed types.Specify dtype option on import or set low_memory=False.\n",
      "  \"\"\"\n",
      "/Users/talaldawudi/opt/anaconda3/lib/python3.7/site-packages/ipykernel_launcher.py:5: DtypeWarning: Columns (13) have mixed types.Specify dtype option on import or set low_memory=False.\n",
      "  \"\"\"\n"
     ]
    }
   ],
   "source": [
    "path = ('/Users/talaldawudi/Desktop/baywheels19')\n",
    "\n",
    "files = glob.glob(os.path.join(path, \"*.csv\"))\n",
    "\n",
    "df = pd.concat((pd.read_csv(f) for f in files), ignore_index = True)\n",
    "\n",
    "df.to_csv('2019_baywheels_data.csv', index = False)\n"
   ]
  },
  {
   "cell_type": "code",
   "execution_count": 19,
   "metadata": {},
   "outputs": [
    {
     "name": "stderr",
     "output_type": "stream",
     "text": [
      "/Users/talaldawudi/opt/anaconda3/lib/python3.7/site-packages/IPython/core/interactiveshell.py:3063: DtypeWarning: Columns (13,14) have mixed types.Specify dtype option on import or set low_memory=False.\n",
      "  interactivity=interactivity, compiler=compiler, result=result)\n"
     ]
    },
    {
     "data": {
      "text/html": [
       "<div>\n",
       "<style scoped>\n",
       "    .dataframe tbody tr th:only-of-type {\n",
       "        vertical-align: middle;\n",
       "    }\n",
       "\n",
       "    .dataframe tbody tr th {\n",
       "        vertical-align: top;\n",
       "    }\n",
       "\n",
       "    .dataframe thead th {\n",
       "        text-align: right;\n",
       "    }\n",
       "</style>\n",
       "<table border=\"1\" class=\"dataframe\">\n",
       "  <thead>\n",
       "    <tr style=\"text-align: right;\">\n",
       "      <th></th>\n",
       "      <th>duration_sec</th>\n",
       "      <th>start_time</th>\n",
       "      <th>end_time</th>\n",
       "      <th>start_station_id</th>\n",
       "      <th>start_station_name</th>\n",
       "      <th>start_station_latitude</th>\n",
       "      <th>start_station_longitude</th>\n",
       "      <th>end_station_id</th>\n",
       "      <th>end_station_name</th>\n",
       "      <th>end_station_latitude</th>\n",
       "      <th>end_station_longitude</th>\n",
       "      <th>bike_id</th>\n",
       "      <th>user_type</th>\n",
       "      <th>bike_share_for_all_trip</th>\n",
       "      <th>rental_access_method</th>\n",
       "    </tr>\n",
       "  </thead>\n",
       "  <tbody>\n",
       "    <tr>\n",
       "      <th>610060</th>\n",
       "      <td>6013</td>\n",
       "      <td>2019-07-03 13:36:38.5900</td>\n",
       "      <td>2019-07-03 15:16:52.1700</td>\n",
       "      <td>400.0</td>\n",
       "      <td>Buchanan St at North Point St</td>\n",
       "      <td>37.804272</td>\n",
       "      <td>-122.433537</td>\n",
       "      <td>400.0</td>\n",
       "      <td>Buchanan St at North Point St</td>\n",
       "      <td>37.804272</td>\n",
       "      <td>-122.433537</td>\n",
       "      <td>2656</td>\n",
       "      <td>Customer</td>\n",
       "      <td>No</td>\n",
       "      <td>NaN</td>\n",
       "    </tr>\n",
       "    <tr>\n",
       "      <th>1746272</th>\n",
       "      <td>644</td>\n",
       "      <td>2019-01-01 16:58:38.3370</td>\n",
       "      <td>2019-01-01 17:09:22.6600</td>\n",
       "      <td>31.0</td>\n",
       "      <td>Raymond Kimbell Playground</td>\n",
       "      <td>37.783813</td>\n",
       "      <td>-122.434559</td>\n",
       "      <td>44.0</td>\n",
       "      <td>Civic Center/UN Plaza BART Station (Market St ...</td>\n",
       "      <td>37.781074</td>\n",
       "      <td>-122.411738</td>\n",
       "      <td>5003</td>\n",
       "      <td>Subscriber</td>\n",
       "      <td>Yes</td>\n",
       "      <td>NaN</td>\n",
       "    </tr>\n",
       "    <tr>\n",
       "      <th>1652855</th>\n",
       "      <td>565</td>\n",
       "      <td>2019-01-19 02:52:09.0650</td>\n",
       "      <td>2019-01-19 03:01:34.4650</td>\n",
       "      <td>324.0</td>\n",
       "      <td>Union Square (Powell St at Post St)</td>\n",
       "      <td>37.788300</td>\n",
       "      <td>-122.408531</td>\n",
       "      <td>6.0</td>\n",
       "      <td>The Embarcadero at Sansome St</td>\n",
       "      <td>37.804770</td>\n",
       "      <td>-122.403234</td>\n",
       "      <td>5142</td>\n",
       "      <td>Subscriber</td>\n",
       "      <td>No</td>\n",
       "      <td>NaN</td>\n",
       "    </tr>\n",
       "    <tr>\n",
       "      <th>543017</th>\n",
       "      <td>475</td>\n",
       "      <td>2019-07-16 08:18:35.5890</td>\n",
       "      <td>2019-07-16 08:26:30.9190</td>\n",
       "      <td>78.0</td>\n",
       "      <td>Folsom St at 9th St</td>\n",
       "      <td>37.773717</td>\n",
       "      <td>-122.411647</td>\n",
       "      <td>67.0</td>\n",
       "      <td>San Francisco Caltrain Station 2  (Townsend St...</td>\n",
       "      <td>37.776639</td>\n",
       "      <td>-122.395526</td>\n",
       "      <td>799</td>\n",
       "      <td>Subscriber</td>\n",
       "      <td>No</td>\n",
       "      <td>NaN</td>\n",
       "    </tr>\n",
       "    <tr>\n",
       "      <th>2143426</th>\n",
       "      <td>450</td>\n",
       "      <td>2019-11-27 15:09:55.4050</td>\n",
       "      <td>2019-11-27 15:17:25.6180</td>\n",
       "      <td>51.0</td>\n",
       "      <td>Parker Ave at McAllister St</td>\n",
       "      <td>37.776101</td>\n",
       "      <td>-122.453093</td>\n",
       "      <td>71.0</td>\n",
       "      <td>Broderick St at Oak St</td>\n",
       "      <td>37.773063</td>\n",
       "      <td>-122.439078</td>\n",
       "      <td>2724</td>\n",
       "      <td>Subscriber</td>\n",
       "      <td>No</td>\n",
       "      <td>NaN</td>\n",
       "    </tr>\n",
       "  </tbody>\n",
       "</table>\n",
       "</div>"
      ],
      "text/plain": [
       "         duration_sec                start_time                  end_time  \\\n",
       "610060           6013  2019-07-03 13:36:38.5900  2019-07-03 15:16:52.1700   \n",
       "1746272           644  2019-01-01 16:58:38.3370  2019-01-01 17:09:22.6600   \n",
       "1652855           565  2019-01-19 02:52:09.0650  2019-01-19 03:01:34.4650   \n",
       "543017            475  2019-07-16 08:18:35.5890  2019-07-16 08:26:30.9190   \n",
       "2143426           450  2019-11-27 15:09:55.4050  2019-11-27 15:17:25.6180   \n",
       "\n",
       "         start_station_id                   start_station_name  \\\n",
       "610060              400.0        Buchanan St at North Point St   \n",
       "1746272              31.0           Raymond Kimbell Playground   \n",
       "1652855             324.0  Union Square (Powell St at Post St)   \n",
       "543017               78.0                  Folsom St at 9th St   \n",
       "2143426              51.0          Parker Ave at McAllister St   \n",
       "\n",
       "         start_station_latitude  start_station_longitude  end_station_id  \\\n",
       "610060                37.804272              -122.433537           400.0   \n",
       "1746272               37.783813              -122.434559            44.0   \n",
       "1652855               37.788300              -122.408531             6.0   \n",
       "543017                37.773717              -122.411647            67.0   \n",
       "2143426               37.776101              -122.453093            71.0   \n",
       "\n",
       "                                          end_station_name  \\\n",
       "610060                       Buchanan St at North Point St   \n",
       "1746272  Civic Center/UN Plaza BART Station (Market St ...   \n",
       "1652855                      The Embarcadero at Sansome St   \n",
       "543017   San Francisco Caltrain Station 2  (Townsend St...   \n",
       "2143426                             Broderick St at Oak St   \n",
       "\n",
       "         end_station_latitude  end_station_longitude  bike_id   user_type  \\\n",
       "610060              37.804272            -122.433537     2656    Customer   \n",
       "1746272             37.781074            -122.411738     5003  Subscriber   \n",
       "1652855             37.804770            -122.403234     5142  Subscriber   \n",
       "543017              37.776639            -122.395526      799  Subscriber   \n",
       "2143426             37.773063            -122.439078     2724  Subscriber   \n",
       "\n",
       "        bike_share_for_all_trip rental_access_method  \n",
       "610060                       No                  NaN  \n",
       "1746272                     Yes                  NaN  \n",
       "1652855                      No                  NaN  \n",
       "543017                       No                  NaN  \n",
       "2143426                      No                  NaN  "
      ]
     },
     "execution_count": 19,
     "metadata": {},
     "output_type": "execute_result"
    }
   ],
   "source": [
    "# I downloaded the August 2020 csv from Bay Wheels. I will be loading it from the Data folder on my laptop.\n",
    "\n",
    "df = pd.read_csv('2019_baywheels_data.csv')\n",
    "df.sample(5)"
   ]
  },
  {
   "cell_type": "markdown",
   "metadata": {},
   "source": [
    "### Assessing Data"
   ]
  },
  {
   "cell_type": "markdown",
   "metadata": {},
   "source": [
    "I have opened the CSV file on excel to give the data a quick visual inspection. For more detailed insights on whether the data is in suitable condition to analyze, I will run a few programatic tests in this section. Any interesting insights or areas to fix will be highlighted along the way."
   ]
  },
  {
   "cell_type": "code",
   "execution_count": 20,
   "metadata": {
    "scrolled": true
   },
   "outputs": [
    {
     "name": "stdout",
     "output_type": "stream",
     "text": [
      "(2506983, 15)\n",
      "duration_sec                 int64\n",
      "start_time                  object\n",
      "end_time                    object\n",
      "start_station_id           float64\n",
      "start_station_name          object\n",
      "start_station_latitude     float64\n",
      "start_station_longitude    float64\n",
      "end_station_id             float64\n",
      "end_station_name            object\n",
      "end_station_latitude       float64\n",
      "end_station_longitude      float64\n",
      "bike_id                      int64\n",
      "user_type                   object\n",
      "bike_share_for_all_trip     object\n",
      "rental_access_method        object\n",
      "dtype: object\n",
      "   duration_sec                start_time                  end_time  \\\n",
      "0         60863  2019-09-30 11:48:02.7100  2019-10-01 04:42:25.8640   \n",
      "1         36019  2019-09-30 16:16:32.3530  2019-10-01 02:16:51.9820   \n",
      "2          5615  2019-09-30 23:12:25.9980  2019-10-01 00:46:01.9590   \n",
      "3          1482  2019-09-30 23:57:34.6630  2019-10-01 00:22:16.8490   \n",
      "4          1272  2019-09-30 23:53:28.6530  2019-10-01 00:14:41.0740   \n",
      "5          8648  2019-09-30 21:43:51.0140  2019-10-01 00:07:59.8930   \n",
      "6           644  2019-09-30 23:54:43.1040  2019-10-01 00:05:27.6560   \n",
      "7           459  2019-09-30 23:54:42.8650  2019-10-01 00:02:22.3630   \n",
      "8           625  2019-09-30 23:49:31.7050  2019-09-30 23:59:56.9160   \n",
      "9          1177  2019-09-30 23:39:34.0880  2019-09-30 23:59:11.2090   \n",
      "\n",
      "   start_station_id                                 start_station_name  \\\n",
      "0             465.0  San Francisco Caltrain Station (King St at 4th...   \n",
      "1             294.0                            Pierce Ave at Market St   \n",
      "2             370.0                                Jones St at Post St   \n",
      "3             109.0                             17th St at Valencia St   \n",
      "4              95.0                              Sanchez St at 15th St   \n",
      "5              11.0                             Davis St at Jackson St   \n",
      "6              15.0  San Francisco Ferry Building (Harry Bridges Pl...   \n",
      "7             321.0                                   5th St at Folsom   \n",
      "8              16.0                            Steuart St at Market St   \n",
      "9             433.0                      Gennessee St at Monterey Blvd   \n",
      "\n",
      "   start_station_latitude  start_station_longitude  end_station_id  \\\n",
      "0               37.776329              -122.394438           465.0   \n",
      "1               37.327581              -121.884559           443.0   \n",
      "2               37.787327              -122.413278             4.0   \n",
      "3               37.763316              -122.421904           460.0   \n",
      "4               37.766219              -122.431060           127.0   \n",
      "5               37.797280              -122.398436             3.0   \n",
      "6               37.795392              -122.394203            91.0   \n",
      "7               37.780146              -122.403071            77.0   \n",
      "8               37.794130              -122.394430            80.0   \n",
      "9               37.731657              -122.451122           139.0   \n",
      "\n",
      "                                    end_station_name  end_station_latitude  \\\n",
      "0  San Francisco Caltrain Station (King St at 4th...             37.776329   \n",
      "1                                 3rd St at Keyes St             37.320866   \n",
      "2                        Cyril Magnin St at Ellis St             37.785881   \n",
      "3                Terry Francois Blvd at Warriors Way             37.769095   \n",
      "4                             Valencia St at 21st St             37.756708   \n",
      "5       Powell St BART Station (Market St at 4th St)             37.786375   \n",
      "6                                Berry St at King St             37.771762   \n",
      "7                               11th St at Natoma St             37.773507   \n",
      "8                              Townsend St at 5th St             37.775235   \n",
      "9           Garfield Square (25th St at Harrison St)             37.751017   \n",
      "\n",
      "   end_station_longitude  bike_id   user_type bike_share_for_all_trip  \\\n",
      "0            -122.394438    12904    Customer                      No   \n",
      "1            -121.876279      163    Customer                      No   \n",
      "2            -122.408915    10737    Customer                      No   \n",
      "3            -122.386333    10346    Customer                      No   \n",
      "4            -122.421025     1349  Subscriber                      No   \n",
      "5            -122.404904     9806    Customer                      No   \n",
      "6            -122.398438     9963  Subscriber                      No   \n",
      "7            -122.416040      531  Subscriber                      No   \n",
      "8            -122.397437    10906  Subscriber                      No   \n",
      "9            -122.411901    11058    Customer                      No   \n",
      "\n",
      "  rental_access_method  \n",
      "0                  NaN  \n",
      "1                  NaN  \n",
      "2                  NaN  \n",
      "3                  NaN  \n",
      "4                  NaN  \n",
      "5                  NaN  \n",
      "6                  NaN  \n",
      "7                  NaN  \n",
      "8                  NaN  \n",
      "9                  NaN  \n"
     ]
    }
   ],
   "source": [
    "print(df.shape)\n",
    "print(df.dtypes)\n",
    "print(df.head(10))"
   ]
  },
  {
   "cell_type": "markdown",
   "metadata": {},
   "source": [
    "**Needs fixing**\n",
    "- start_time and end_time columns need to be converted to datetime for more accurate results.\n",
    "- start_station_id and end_station_id do not need to be in float format. Easier if they were in string format.\n",
    "- user_type, bike_share_for_all_trip can be converted into categorical types instead of objects."
   ]
  },
  {
   "cell_type": "code",
   "execution_count": 30,
   "metadata": {},
   "outputs": [
    {
     "name": "stdout",
     "output_type": "stream",
     "text": [
      "<class 'pandas.core.frame.DataFrame'>\n",
      "RangeIndex: 2506983 entries, 0 to 2506982\n",
      "Data columns (total 15 columns):\n",
      " #   Column                   Dtype  \n",
      "---  ------                   -----  \n",
      " 0   duration_sec             int64  \n",
      " 1   start_time               object \n",
      " 2   end_time                 object \n",
      " 3   start_station_id         float64\n",
      " 4   start_station_name       object \n",
      " 5   start_station_latitude   float64\n",
      " 6   start_station_longitude  float64\n",
      " 7   end_station_id           float64\n",
      " 8   end_station_name         object \n",
      " 9   end_station_latitude     float64\n",
      " 10  end_station_longitude    float64\n",
      " 11  bike_id                  int64  \n",
      " 12  user_type                object \n",
      " 13  bike_share_for_all_trip  object \n",
      " 14  rental_access_method     object \n",
      "dtypes: float64(6), int64(2), object(7)\n",
      "memory usage: 286.9+ MB\n"
     ]
    }
   ],
   "source": [
    "df.info()"
   ]
  },
  {
   "cell_type": "code",
   "execution_count": 31,
   "metadata": {},
   "outputs": [
    {
     "data": {
      "text/html": [
       "<div>\n",
       "<style scoped>\n",
       "    .dataframe tbody tr th:only-of-type {\n",
       "        vertical-align: middle;\n",
       "    }\n",
       "\n",
       "    .dataframe tbody tr th {\n",
       "        vertical-align: top;\n",
       "    }\n",
       "\n",
       "    .dataframe thead th {\n",
       "        text-align: right;\n",
       "    }\n",
       "</style>\n",
       "<table border=\"1\" class=\"dataframe\">\n",
       "  <thead>\n",
       "    <tr style=\"text-align: right;\">\n",
       "      <th></th>\n",
       "      <th>duration_sec</th>\n",
       "      <th>start_station_id</th>\n",
       "      <th>start_station_latitude</th>\n",
       "      <th>start_station_longitude</th>\n",
       "      <th>end_station_id</th>\n",
       "      <th>end_station_latitude</th>\n",
       "      <th>end_station_longitude</th>\n",
       "      <th>bike_id</th>\n",
       "    </tr>\n",
       "  </thead>\n",
       "  <tbody>\n",
       "    <tr>\n",
       "      <th>count</th>\n",
       "      <td>2.506983e+06</td>\n",
       "      <td>2.426249e+06</td>\n",
       "      <td>2.506983e+06</td>\n",
       "      <td>2.506983e+06</td>\n",
       "      <td>2.424081e+06</td>\n",
       "      <td>2.506983e+06</td>\n",
       "      <td>2.506983e+06</td>\n",
       "      <td>2.506983e+06</td>\n",
       "    </tr>\n",
       "    <tr>\n",
       "      <th>mean</th>\n",
       "      <td>8.076483e+02</td>\n",
       "      <td>1.465047e+02</td>\n",
       "      <td>3.776506e+01</td>\n",
       "      <td>-1.223499e+02</td>\n",
       "      <td>1.427044e+02</td>\n",
       "      <td>3.776422e+01</td>\n",
       "      <td>-1.223459e+02</td>\n",
       "      <td>2.789833e+04</td>\n",
       "    </tr>\n",
       "    <tr>\n",
       "      <th>std</th>\n",
       "      <td>1.974714e+03</td>\n",
       "      <td>1.223171e+02</td>\n",
       "      <td>1.363698e-01</td>\n",
       "      <td>3.089648e-01</td>\n",
       "      <td>1.214296e+02</td>\n",
       "      <td>2.392885e-01</td>\n",
       "      <td>7.080417e-01</td>\n",
       "      <td>1.146067e+05</td>\n",
       "    </tr>\n",
       "    <tr>\n",
       "      <th>min</th>\n",
       "      <td>6.000000e+01</td>\n",
       "      <td>3.000000e+00</td>\n",
       "      <td>0.000000e+00</td>\n",
       "      <td>-1.225143e+02</td>\n",
       "      <td>3.000000e+00</td>\n",
       "      <td>0.000000e+00</td>\n",
       "      <td>-1.225143e+02</td>\n",
       "      <td>4.000000e+00</td>\n",
       "    </tr>\n",
       "    <tr>\n",
       "      <th>25%</th>\n",
       "      <td>3.590000e+02</td>\n",
       "      <td>4.700000e+01</td>\n",
       "      <td>3.776931e+01</td>\n",
       "      <td>-1.224130e+02</td>\n",
       "      <td>4.300000e+01</td>\n",
       "      <td>3.777003e+01</td>\n",
       "      <td>-1.224117e+02</td>\n",
       "      <td>1.952000e+03</td>\n",
       "    </tr>\n",
       "    <tr>\n",
       "      <th>50%</th>\n",
       "      <td>5.710000e+02</td>\n",
       "      <td>1.050000e+02</td>\n",
       "      <td>3.778053e+01</td>\n",
       "      <td>-1.223983e+02</td>\n",
       "      <td>1.010000e+02</td>\n",
       "      <td>3.778076e+01</td>\n",
       "      <td>-1.223981e+02</td>\n",
       "      <td>4.420000e+03</td>\n",
       "    </tr>\n",
       "    <tr>\n",
       "      <th>75%</th>\n",
       "      <td>8.870000e+02</td>\n",
       "      <td>2.430000e+02</td>\n",
       "      <td>3.779539e+01</td>\n",
       "      <td>-1.222914e+02</td>\n",
       "      <td>2.390000e+02</td>\n",
       "      <td>3.779587e+01</td>\n",
       "      <td>-1.222934e+02</td>\n",
       "      <td>9.682000e+03</td>\n",
       "    </tr>\n",
       "    <tr>\n",
       "      <th>max</th>\n",
       "      <td>9.121100e+05</td>\n",
       "      <td>4.980000e+02</td>\n",
       "      <td>4.551000e+01</td>\n",
       "      <td>0.000000e+00</td>\n",
       "      <td>4.980000e+02</td>\n",
       "      <td>4.551000e+01</td>\n",
       "      <td>0.000000e+00</td>\n",
       "      <td>9.999410e+05</td>\n",
       "    </tr>\n",
       "  </tbody>\n",
       "</table>\n",
       "</div>"
      ],
      "text/plain": [
       "       duration_sec  start_station_id  start_station_latitude  \\\n",
       "count  2.506983e+06      2.426249e+06            2.506983e+06   \n",
       "mean   8.076483e+02      1.465047e+02            3.776506e+01   \n",
       "std    1.974714e+03      1.223171e+02            1.363698e-01   \n",
       "min    6.000000e+01      3.000000e+00            0.000000e+00   \n",
       "25%    3.590000e+02      4.700000e+01            3.776931e+01   \n",
       "50%    5.710000e+02      1.050000e+02            3.778053e+01   \n",
       "75%    8.870000e+02      2.430000e+02            3.779539e+01   \n",
       "max    9.121100e+05      4.980000e+02            4.551000e+01   \n",
       "\n",
       "       start_station_longitude  end_station_id  end_station_latitude  \\\n",
       "count             2.506983e+06    2.424081e+06          2.506983e+06   \n",
       "mean             -1.223499e+02    1.427044e+02          3.776422e+01   \n",
       "std               3.089648e-01    1.214296e+02          2.392885e-01   \n",
       "min              -1.225143e+02    3.000000e+00          0.000000e+00   \n",
       "25%              -1.224130e+02    4.300000e+01          3.777003e+01   \n",
       "50%              -1.223983e+02    1.010000e+02          3.778076e+01   \n",
       "75%              -1.222914e+02    2.390000e+02          3.779587e+01   \n",
       "max               0.000000e+00    4.980000e+02          4.551000e+01   \n",
       "\n",
       "       end_station_longitude       bike_id  \n",
       "count           2.506983e+06  2.506983e+06  \n",
       "mean           -1.223459e+02  2.789833e+04  \n",
       "std             7.080417e-01  1.146067e+05  \n",
       "min            -1.225143e+02  4.000000e+00  \n",
       "25%            -1.224117e+02  1.952000e+03  \n",
       "50%            -1.223981e+02  4.420000e+03  \n",
       "75%            -1.222934e+02  9.682000e+03  \n",
       "max             0.000000e+00  9.999410e+05  "
      ]
     },
     "execution_count": 31,
     "metadata": {},
     "output_type": "execute_result"
    }
   ],
   "source": [
    "df.describe()"
   ]
  },
  {
   "cell_type": "code",
   "execution_count": 32,
   "metadata": {
    "scrolled": true
   },
   "outputs": [
    {
     "data": {
      "text/plain": [
       "0"
      ]
     },
     "execution_count": 32,
     "metadata": {},
     "output_type": "execute_result"
    }
   ],
   "source": [
    "df.duplicated().sum()"
   ]
  },
  {
   "cell_type": "markdown",
   "metadata": {},
   "source": [
    "There are no duplicates in this dataset, which is great from a cleaning perspective."
   ]
  },
  {
   "cell_type": "code",
   "execution_count": 33,
   "metadata": {},
   "outputs": [
    {
     "data": {
      "text/plain": [
       "Subscriber    2021166\n",
       "Customer       485817\n",
       "Name: user_type, dtype: int64"
      ]
     },
     "execution_count": 33,
     "metadata": {},
     "output_type": "execute_result"
    }
   ],
   "source": [
    "df.user_type.value_counts()"
   ]
  },
  {
   "cell_type": "code",
   "execution_count": 34,
   "metadata": {
    "scrolled": true
   },
   "outputs": [
    {
     "data": {
      "text/plain": [
       "No     2086152\n",
       "Yes     177572\n",
       "Name: bike_share_for_all_trip, dtype: int64"
      ]
     },
     "execution_count": 34,
     "metadata": {},
     "output_type": "execute_result"
    }
   ],
   "source": [
    "df.bike_share_for_all_trip.value_counts()"
   ]
  },
  {
   "cell_type": "code",
   "execution_count": 35,
   "metadata": {},
   "outputs": [
    {
     "data": {
      "text/plain": [
       "app        108010\n",
       "clipper     12828\n",
       "Name: rental_access_method, dtype: int64"
      ]
     },
     "execution_count": 35,
     "metadata": {},
     "output_type": "execute_result"
    }
   ],
   "source": [
    "df.rental_access_method.value_counts()"
   ]
  },
  {
   "cell_type": "markdown",
   "metadata": {},
   "source": [
    "Because the data does not provide too much information to analyze (for example, more info on customer demographics), in order to get the best use out of this data set, start_time can be broken down into more in depth info (month, day of the week, hour of the day) to gain a deeper understanding of customer patterns. \n",
    "\n",
    "We may also want to convert the duration columns into minutes for more intuitive analysis (example: saying average ride time is 15 minutes versus 900 seconds)."
   ]
  },
  {
   "cell_type": "markdown",
   "metadata": {},
   "source": [
    "### Cleaning Data"
   ]
  },
  {
   "cell_type": "code",
   "execution_count": 36,
   "metadata": {},
   "outputs": [],
   "source": [
    "#We will start by creating a clean copy of the dataframe. I will clean the new dataframe (df_clean)\n",
    "df_clean = df.copy()"
   ]
  },
  {
   "cell_type": "markdown",
   "metadata": {},
   "source": [
    "**Define:** We will first convert all datatypes mentioned in assessment stage to their appropriate datatypes for analysis."
   ]
  },
  {
   "cell_type": "markdown",
   "metadata": {},
   "source": [
    "**Code:**"
   ]
  },
  {
   "cell_type": "code",
   "execution_count": 37,
   "metadata": {},
   "outputs": [],
   "source": [
    "df_clean['start_time'] = pd.to_datetime(df_clean['start_time'])\n",
    "df_clean['end_time'] = pd.to_datetime(df_clean['end_time'])\n",
    "\n",
    "df_clean['start_station_id'] = df_clean['start_station_id'].astype('str')\n",
    "df_clean['end_station_id'] = df_clean['end_station_id'].astype('str')\n",
    "\n",
    "df_clean['user_type'] = df_clean['user_type'].astype('category')\n",
    "df_clean['bike_share_for_all_trip'] = df_clean['bike_share_for_all_trip'].astype('category')\n",
    "df_clean['rental_access_method'] = df_clean['rental_access_method'].astype('category')"
   ]
  },
  {
   "cell_type": "markdown",
   "metadata": {},
   "source": [
    "**Test:**"
   ]
  },
  {
   "cell_type": "code",
   "execution_count": 38,
   "metadata": {},
   "outputs": [
    {
     "name": "stdout",
     "output_type": "stream",
     "text": [
      "<class 'pandas.core.frame.DataFrame'>\n",
      "RangeIndex: 2506983 entries, 0 to 2506982\n",
      "Data columns (total 15 columns):\n",
      " #   Column                   Dtype         \n",
      "---  ------                   -----         \n",
      " 0   duration_sec             int64         \n",
      " 1   start_time               datetime64[ns]\n",
      " 2   end_time                 datetime64[ns]\n",
      " 3   start_station_id         object        \n",
      " 4   start_station_name       object        \n",
      " 5   start_station_latitude   float64       \n",
      " 6   start_station_longitude  float64       \n",
      " 7   end_station_id           object        \n",
      " 8   end_station_name         object        \n",
      " 9   end_station_latitude     float64       \n",
      " 10  end_station_longitude    float64       \n",
      " 11  bike_id                  int64         \n",
      " 12  user_type                category      \n",
      " 13  bike_share_for_all_trip  category      \n",
      " 14  rental_access_method     category      \n",
      "dtypes: category(3), datetime64[ns](2), float64(4), int64(2), object(4)\n",
      "memory usage: 236.7+ MB\n"
     ]
    }
   ],
   "source": [
    "df_clean.info()"
   ]
  },
  {
   "cell_type": "markdown",
   "metadata": {},
   "source": [
    "Great, the types have been changed to the appropriate format."
   ]
  },
  {
   "cell_type": "markdown",
   "metadata": {},
   "source": [
    "**Define:** for the best analysis possible, we will need to create additional columns that tell us more about the data.\n",
    "This includes changing the trip duration column (from seconds to minutes), in addition to creating month, day of week, and hour of day columns. This information will better equip us to understand patterns associated with timing."
   ]
  },
  {
   "cell_type": "markdown",
   "metadata": {},
   "source": [
    "**Code:**"
   ]
  },
  {
   "cell_type": "code",
   "execution_count": 39,
   "metadata": {},
   "outputs": [],
   "source": [
    "# Creating a new duration column to express the trip's duration in minutes.\n",
    "df_clean['duration_mins']= (df_clean['duration_sec']/60).astype(int)\n",
    "\n",
    "# Creating three separate columns to identify the date, day of week, and hour of the day that people use go bikes\n",
    "df_clean['start_hourofday'] = df_clean['start_time'].dt.hour\n",
    "df_clean['start_dayofweek'] = df_clean.start_time.dt.strftime('%a')\n",
    "df_clean['month'] = df_clean.start_time.dt.strftime('%b')\n",
    "\n",
    "df_clean['start_hourofday'] = df_clean['start_hourofday'].astype(int)"
   ]
  },
  {
   "cell_type": "markdown",
   "metadata": {},
   "source": [
    "**Test:**"
   ]
  },
  {
   "cell_type": "code",
   "execution_count": 40,
   "metadata": {
    "scrolled": true
   },
   "outputs": [
    {
     "data": {
      "text/html": [
       "<div>\n",
       "<style scoped>\n",
       "    .dataframe tbody tr th:only-of-type {\n",
       "        vertical-align: middle;\n",
       "    }\n",
       "\n",
       "    .dataframe tbody tr th {\n",
       "        vertical-align: top;\n",
       "    }\n",
       "\n",
       "    .dataframe thead th {\n",
       "        text-align: right;\n",
       "    }\n",
       "</style>\n",
       "<table border=\"1\" class=\"dataframe\">\n",
       "  <thead>\n",
       "    <tr style=\"text-align: right;\">\n",
       "      <th></th>\n",
       "      <th>duration_sec</th>\n",
       "      <th>start_time</th>\n",
       "      <th>end_time</th>\n",
       "      <th>start_station_id</th>\n",
       "      <th>start_station_name</th>\n",
       "      <th>start_station_latitude</th>\n",
       "      <th>start_station_longitude</th>\n",
       "      <th>end_station_id</th>\n",
       "      <th>end_station_name</th>\n",
       "      <th>end_station_latitude</th>\n",
       "      <th>end_station_longitude</th>\n",
       "      <th>bike_id</th>\n",
       "      <th>user_type</th>\n",
       "      <th>bike_share_for_all_trip</th>\n",
       "      <th>rental_access_method</th>\n",
       "      <th>duration_mins</th>\n",
       "      <th>start_hourofday</th>\n",
       "      <th>start_dayofweek</th>\n",
       "      <th>month</th>\n",
       "    </tr>\n",
       "  </thead>\n",
       "  <tbody>\n",
       "    <tr>\n",
       "      <th>1507232</th>\n",
       "      <td>418</td>\n",
       "      <td>2019-05-08 17:04:31.580</td>\n",
       "      <td>2019-05-08 17:11:30.214</td>\n",
       "      <td>50.0</td>\n",
       "      <td>2nd St at Townsend St</td>\n",
       "      <td>37.780526</td>\n",
       "      <td>-122.390288</td>\n",
       "      <td>15.0</td>\n",
       "      <td>San Francisco Ferry Building (Harry Bridges Pl...</td>\n",
       "      <td>37.795392</td>\n",
       "      <td>-122.394203</td>\n",
       "      <td>2315</td>\n",
       "      <td>Subscriber</td>\n",
       "      <td>No</td>\n",
       "      <td>NaN</td>\n",
       "      <td>6</td>\n",
       "      <td>17</td>\n",
       "      <td>Wed</td>\n",
       "      <td>May</td>\n",
       "    </tr>\n",
       "    <tr>\n",
       "      <th>610459</th>\n",
       "      <td>704</td>\n",
       "      <td>2019-07-03 13:25:00.400</td>\n",
       "      <td>2019-07-03 13:36:45.043</td>\n",
       "      <td>192.0</td>\n",
       "      <td>37th St at West St</td>\n",
       "      <td>37.826696</td>\n",
       "      <td>-122.271797</td>\n",
       "      <td>196.0</td>\n",
       "      <td>Grand Ave at Perkins St</td>\n",
       "      <td>37.808894</td>\n",
       "      <td>-122.256460</td>\n",
       "      <td>1550</td>\n",
       "      <td>Subscriber</td>\n",
       "      <td>No</td>\n",
       "      <td>NaN</td>\n",
       "      <td>11</td>\n",
       "      <td>13</td>\n",
       "      <td>Wed</td>\n",
       "      <td>Jul</td>\n",
       "    </tr>\n",
       "    <tr>\n",
       "      <th>28600</th>\n",
       "      <td>566</td>\n",
       "      <td>2019-09-26 17:04:26.570</td>\n",
       "      <td>2019-09-26 17:13:52.736</td>\n",
       "      <td>97.0</td>\n",
       "      <td>14th St at Mission St</td>\n",
       "      <td>37.768265</td>\n",
       "      <td>-122.420110</td>\n",
       "      <td>30.0</td>\n",
       "      <td>San Francisco Caltrain (Townsend St at 4th St)</td>\n",
       "      <td>37.776598</td>\n",
       "      <td>-122.395282</td>\n",
       "      <td>11536</td>\n",
       "      <td>Subscriber</td>\n",
       "      <td>No</td>\n",
       "      <td>NaN</td>\n",
       "      <td>9</td>\n",
       "      <td>17</td>\n",
       "      <td>Thu</td>\n",
       "      <td>Sep</td>\n",
       "    </tr>\n",
       "    <tr>\n",
       "      <th>890224</th>\n",
       "      <td>745</td>\n",
       "      <td>2019-03-12 12:13:08.153</td>\n",
       "      <td>2019-03-12 12:25:33.611</td>\n",
       "      <td>58.0</td>\n",
       "      <td>Market St at 10th St</td>\n",
       "      <td>37.776619</td>\n",
       "      <td>-122.417385</td>\n",
       "      <td>15.0</td>\n",
       "      <td>San Francisco Ferry Building (Harry Bridges Pl...</td>\n",
       "      <td>37.795392</td>\n",
       "      <td>-122.394203</td>\n",
       "      <td>6322</td>\n",
       "      <td>Subscriber</td>\n",
       "      <td>No</td>\n",
       "      <td>NaN</td>\n",
       "      <td>12</td>\n",
       "      <td>12</td>\n",
       "      <td>Tue</td>\n",
       "      <td>Mar</td>\n",
       "    </tr>\n",
       "    <tr>\n",
       "      <th>809348</th>\n",
       "      <td>966</td>\n",
       "      <td>2019-03-20 17:47:05.310</td>\n",
       "      <td>2019-03-20 18:03:12.089</td>\n",
       "      <td>15.0</td>\n",
       "      <td>San Francisco Ferry Building (Harry Bridges Pl...</td>\n",
       "      <td>37.795392</td>\n",
       "      <td>-122.394203</td>\n",
       "      <td>130.0</td>\n",
       "      <td>22nd St Caltrain Station</td>\n",
       "      <td>37.757288</td>\n",
       "      <td>-122.392051</td>\n",
       "      <td>5405</td>\n",
       "      <td>Subscriber</td>\n",
       "      <td>No</td>\n",
       "      <td>NaN</td>\n",
       "      <td>16</td>\n",
       "      <td>17</td>\n",
       "      <td>Wed</td>\n",
       "      <td>Mar</td>\n",
       "    </tr>\n",
       "  </tbody>\n",
       "</table>\n",
       "</div>"
      ],
      "text/plain": [
       "         duration_sec              start_time                end_time  \\\n",
       "1507232           418 2019-05-08 17:04:31.580 2019-05-08 17:11:30.214   \n",
       "610459            704 2019-07-03 13:25:00.400 2019-07-03 13:36:45.043   \n",
       "28600             566 2019-09-26 17:04:26.570 2019-09-26 17:13:52.736   \n",
       "890224            745 2019-03-12 12:13:08.153 2019-03-12 12:25:33.611   \n",
       "809348            966 2019-03-20 17:47:05.310 2019-03-20 18:03:12.089   \n",
       "\n",
       "        start_station_id                                 start_station_name  \\\n",
       "1507232             50.0                              2nd St at Townsend St   \n",
       "610459             192.0                                 37th St at West St   \n",
       "28600               97.0                              14th St at Mission St   \n",
       "890224              58.0                               Market St at 10th St   \n",
       "809348              15.0  San Francisco Ferry Building (Harry Bridges Pl...   \n",
       "\n",
       "         start_station_latitude  start_station_longitude end_station_id  \\\n",
       "1507232               37.780526              -122.390288           15.0   \n",
       "610459                37.826696              -122.271797          196.0   \n",
       "28600                 37.768265              -122.420110           30.0   \n",
       "890224                37.776619              -122.417385           15.0   \n",
       "809348                37.795392              -122.394203          130.0   \n",
       "\n",
       "                                          end_station_name  \\\n",
       "1507232  San Francisco Ferry Building (Harry Bridges Pl...   \n",
       "610459                             Grand Ave at Perkins St   \n",
       "28600       San Francisco Caltrain (Townsend St at 4th St)   \n",
       "890224   San Francisco Ferry Building (Harry Bridges Pl...   \n",
       "809348                            22nd St Caltrain Station   \n",
       "\n",
       "         end_station_latitude  end_station_longitude  bike_id   user_type  \\\n",
       "1507232             37.795392            -122.394203     2315  Subscriber   \n",
       "610459              37.808894            -122.256460     1550  Subscriber   \n",
       "28600               37.776598            -122.395282    11536  Subscriber   \n",
       "890224              37.795392            -122.394203     6322  Subscriber   \n",
       "809348              37.757288            -122.392051     5405  Subscriber   \n",
       "\n",
       "        bike_share_for_all_trip rental_access_method  duration_mins  \\\n",
       "1507232                      No                  NaN              6   \n",
       "610459                       No                  NaN             11   \n",
       "28600                        No                  NaN              9   \n",
       "890224                       No                  NaN             12   \n",
       "809348                       No                  NaN             16   \n",
       "\n",
       "         start_hourofday start_dayofweek month  \n",
       "1507232               17             Wed   May  \n",
       "610459                13             Wed   Jul  \n",
       "28600                 17             Thu   Sep  \n",
       "890224                12             Tue   Mar  \n",
       "809348                17             Wed   Mar  "
      ]
     },
     "execution_count": 40,
     "metadata": {},
     "output_type": "execute_result"
    }
   ],
   "source": [
    "df_clean.sample(5)"
   ]
  },
  {
   "cell_type": "markdown",
   "metadata": {},
   "source": [
    "Great, the new columns we need are here."
   ]
  },
  {
   "cell_type": "code",
   "execution_count": 41,
   "metadata": {
    "scrolled": true
   },
   "outputs": [
    {
     "name": "stdout",
     "output_type": "stream",
     "text": [
      "<class 'pandas.core.frame.DataFrame'>\n",
      "RangeIndex: 2506983 entries, 0 to 2506982\n",
      "Data columns (total 19 columns):\n",
      " #   Column                   Dtype         \n",
      "---  ------                   -----         \n",
      " 0   duration_sec             int64         \n",
      " 1   start_time               datetime64[ns]\n",
      " 2   end_time                 datetime64[ns]\n",
      " 3   start_station_id         object        \n",
      " 4   start_station_name       object        \n",
      " 5   start_station_latitude   float64       \n",
      " 6   start_station_longitude  float64       \n",
      " 7   end_station_id           object        \n",
      " 8   end_station_name         object        \n",
      " 9   end_station_latitude     float64       \n",
      " 10  end_station_longitude    float64       \n",
      " 11  bike_id                  int64         \n",
      " 12  user_type                category      \n",
      " 13  bike_share_for_all_trip  category      \n",
      " 14  rental_access_method     category      \n",
      " 15  duration_mins            int64         \n",
      " 16  start_hourofday          int64         \n",
      " 17  start_dayofweek          object        \n",
      " 18  month                    object        \n",
      "dtypes: category(3), datetime64[ns](2), float64(4), int64(4), object(6)\n",
      "memory usage: 313.2+ MB\n"
     ]
    }
   ],
   "source": [
    "df_clean.info()"
   ]
  },
  {
   "cell_type": "markdown",
   "metadata": {},
   "source": [
    "The data is in the format we would like it to be in."
   ]
  },
  {
   "cell_type": "code",
   "execution_count": 263,
   "metadata": {},
   "outputs": [],
   "source": [
    "#Export clean data to CSV\n",
    "df_clean.to_csv('baywheels19_master_clean.csv')"
   ]
  },
  {
   "cell_type": "markdown",
   "metadata": {},
   "source": [
    "### What is the structure of your dataset?"
   ]
  },
  {
   "cell_type": "markdown",
   "metadata": {},
   "source": [
    "The Bay Wheels data I will be using for this project is simple and easy to work with. I've gathered data from Bay Wheels' 2019 data. There are approximately 2,506,983 rides in the dataset. The types of data vary.\n",
    "\n",
    "Strings/Objects:\n",
    "- **Start_station_id** and **end_station_id**, which are numerically assigned to each individual station.\n",
    "- **start_station_name** and **end_station_name**, which are individually assigned to each individual station. \n",
    "\n",
    "Datetime Data:\n",
    "- **start_time** (The exact timing, including date, during which a ride began).\n",
    "- **end_time** (The exact timing, including date, during which a ride ended).\n",
    "\n",
    "Categorical Data:\n",
    "- **user_types** (which groups rides into those taken by subscribers versus those taken by casual (customer) users)\n",
    "- **bike_shre_for_all_trip**\n",
    "- **rental_access_method** : did members access their ride through the clipper or the app?\n",
    "\n",
    "Floats:\n",
    "- **start_station_latitude, start_station_longtitude**\n",
    "- **end_station_latitude, end_station_longtitude**\n",
    "\n",
    "These four columns give us the geographic coordinates for when a ride started and ended, including start latitude and longtitude coordinates, and end latitude and longtitude coordinates.\n",
    "\n",
    "Since this data is quite simple and broad, I decided to break down the start time of each ride into 3 different columns:\n",
    "1. **start_dayofweek**: Day of the week the ride started (string/object)\n",
    "2. **start_hourofday**: The specific hour of the day the ride was started (integer, we do not need it to be a float as it represents a specific hour)\n",
    "3. **start_date**: the specific date in which the ride started (string/object format as we will not use this for anything more than visual aid)\n",
    "4. **Month**: the month during which the ride started.\n",
    "\n",
    "\n",
    "Finally, the **duration_mins** column I created represents the length of each specific ride in minutes.\n"
   ]
  },
  {
   "cell_type": "markdown",
   "metadata": {},
   "source": [
    "### What is/are the main feature(s) of interest in your dataset?"
   ]
  },
  {
   "cell_type": "markdown",
   "metadata": {},
   "source": [
    "Since we do not have much customer-specific data to work with, I'll be most interested in examining rental behavior of the users. I'd like to know how the demand for bikes varies depending on month, day of week, hour of the day, and potentially the location of the station itself. I think it would also be interesting to take a closer look at how long people rent bikes for in order to understand how the service is being used."
   ]
  },
  {
   "cell_type": "markdown",
   "metadata": {},
   "source": [
    "### What features in the dataset do you think will help support your investigation into your feature(s) of interest?\n"
   ]
  },
  {
   "cell_type": "markdown",
   "metadata": {},
   "source": [
    "month, start_dayofweek, start_hourofday and duration_mins will be especially helpful in understanding the demand for the bikes on a micro level. Duration_mins will also give us a good idea of how long people usually rent the bikes for, which can also help us infer whether or not they travel longer or shorter distances with the bikes."
   ]
  },
  {
   "cell_type": "markdown",
   "metadata": {},
   "source": [
    "## Univariate Exploration"
   ]
  },
  {
   "cell_type": "markdown",
   "metadata": {},
   "source": [
    "In this section, I'll be exploring the relationship between individual variables. All comments and observations will be documented along the way."
   ]
  },
  {
   "cell_type": "markdown",
   "metadata": {},
   "source": [
    "**Trips By Month**"
   ]
  },
  {
   "cell_type": "code",
   "execution_count": 42,
   "metadata": {
    "scrolled": true
   },
   "outputs": [
    {
     "data": {
      "text/plain": [
       "count     2506983\n",
       "unique         12\n",
       "top           Jul\n",
       "freq       258102\n",
       "Name: month, dtype: object"
      ]
     },
     "execution_count": 42,
     "metadata": {},
     "output_type": "execute_result"
    }
   ],
   "source": [
    "#Starting simple, we can take a look at what months, days of the week, and hours of the day are most/least popular.\n",
    "#We'll start with months \n",
    "\n",
    "df_clean.month.describe()"
   ]
  },
  {
   "cell_type": "markdown",
   "metadata": {},
   "source": [
    "From above, we can see that more than 10% of the rides in our data set took place in July.\n",
    "Since our data is categorical, we can see what volume was like for all months using a bar chart."
   ]
  },
  {
   "cell_type": "code",
   "execution_count": 63,
   "metadata": {},
   "outputs": [],
   "source": [
    "df_month_agg = pd.DataFrame(df_clean.groupby('month').size()).reset_index().rename(columns={0:'count'})\n",
    "df_month_agg = df_month_agg.sort_values(by='count',ascending=False)"
   ]
  },
  {
   "cell_type": "code",
   "execution_count": 73,
   "metadata": {},
   "outputs": [
    {
     "data": {
      "text/plain": [
       "Text(0.5, 1.0, 'Bay Wheels Rides per Month')"
      ]
     },
     "execution_count": 73,
     "metadata": {},
     "output_type": "execute_result"
    },
    {
     "data": {
      "image/png": "[encoded data removed]",
      "text/plain": [
       "<Figure size 432x288 with 1 Axes>"
      ]
     },
     "metadata": {
      "needs_background": "light"
     },
     "output_type": "display_data"
    }
   ],
   "source": [
    "bar_color1 = sb.color_palette()[0]\n",
    "month_bar_chart = sb.barplot(data = df_month_agg, x='month',y='count', color = bar_color1)\n",
    "\n",
    "plt.xlabel(\"Month\", size=10)\n",
    "plt.ylabel(\"Trips Taken\", size=10)\n",
    "plt.title(\"Bay Wheels Rides per Month\", size=18);"
   ]
  },
  {
   "cell_type": "markdown",
   "metadata": {},
   "source": [
    "It appears from the bar chart above that July and March were Bay Wheel's busiest months in 2019. Because the busy months don't follow a particular pattern (for example, notably busier in summer months versus the spring), it is hard to say that weather is a leading factor that drives the bike rentals, especially since weather is temperate in the San Francisco Bay Area year round.\n",
    "\n",
    "Tourism in July might be one of the factors leading to the spike in rentals.\n",
    "\n",
    "December seems to have notably less rides than even the least busy months, which might be attributed to the holiday season, when many people leave the city to see their families, or go on holiday. "
   ]
  },
  {
   "cell_type": "markdown",
   "metadata": {},
   "source": [
    "**Trips by Hour Started**"
   ]
  },
  {
   "cell_type": "code",
   "execution_count": 75,
   "metadata": {},
   "outputs": [],
   "source": [
    "df_hour_agg = pd.DataFrame(df_clean.groupby('start_hourofday').size()).reset_index().rename(columns={0:'count'})\n",
    "df_hour_agg = df_hour_agg.sort_values(by='count',ascending=False);"
   ]
  },
  {
   "cell_type": "code",
   "execution_count": 76,
   "metadata": {},
   "outputs": [
    {
     "data": {
      "text/plain": [
       "Text(0.5, 1.0, 'Bay Wheels Rides by Hour')"
      ]
     },
     "execution_count": 76,
     "metadata": {},
     "output_type": "execute_result"
    },
    {
     "data": {
      "image/png": "[encoded data removed]",
      "text/plain": [
       "<Figure size 432x288 with 1 Axes>"
      ]
     },
     "metadata": {
      "needs_background": "light"
     },
     "output_type": "display_data"
    }
   ],
   "source": [
    "bar_color2 = sb.color_palette()[9]\n",
    "hour_bar_chart = sb.barplot(data = df_hour_agg, x='start_hourofday',y='count', color = bar_color2)\n",
    "\n",
    "plt.xlabel(\"Hour of the Day\", size=10)\n",
    "plt.ylabel(\"Trips Taken\", size=10)\n",
    "plt.title(\"Bay Wheels Rides by Hour\", size=18);"
   ]
  },
  {
   "cell_type": "markdown",
   "metadata": {},
   "source": [
    "Unsurprisingly, demand for bikes is extremely low from midnight to 5AM, as most people are sleeping. \n",
    "\n",
    "Demand for the bikes picks up drastically from 7AM to 9AM, which closely coincides with the typical start of a workday. This signifies that this bike rental service is used by many for their daily work commutes. \n",
    "\n",
    "Demand drops off, albeit not dramatically, at around 10AM, and remains at roughly the same levels until 3PM. This lets us know that people are still using the service for purposes other than a work commute. We obviously cannot determine what people are using the bikes for by solely looking at this chart, but many people run errands, explore the city, and shop during these hours in the day. \n",
    "\n",
    "Demand rapidly picks up from 4PM to 6PM, which might again be attributed to the end of the working day, asserting that many rely on this service for their work commutes.\n",
    "\n",
    "Finally, demand drops far more significantly after 7PM, and continues to drop until 6AM."
   ]
  },
  {
   "cell_type": "markdown",
   "metadata": {},
   "source": [
    "**Trips by Day of the Week** "
   ]
  },
  {
   "cell_type": "code",
   "execution_count": 78,
   "metadata": {},
   "outputs": [],
   "source": [
    "df_weekday_agg = pd.DataFrame(df_clean.groupby('start_dayofweek').size()).reset_index().rename(columns={0:'count'})\n",
    "df_weekday_agg = df_weekday_agg.sort_values(by='count',ascending=False);"
   ]
  },
  {
   "cell_type": "code",
   "execution_count": 87,
   "metadata": {},
   "outputs": [
    {
     "data": {
      "text/plain": [
       "Text(0.5, 1.0, 'Bay Wheels Rides by Day of Week')"
      ]
     },
     "execution_count": 87,
     "metadata": {},
     "output_type": "execute_result"
    },
    {
     "data": {
      "image/png": "[encoded data removed]",
      "text/plain": [
       "<Figure size 432x288 with 1 Axes>"
      ]
     },
     "metadata": {
      "needs_background": "light"
     },
     "output_type": "display_data"
    }
   ],
   "source": [
    "bar_color3 = sb.color_palette()[8]\n",
    "hour_bar_chart = sb.barplot(data = df_weekday_agg, x='start_dayofweek',y='count', color = bar_color3)\n",
    "\n",
    "plt.xlabel(\"Day of the Week\", size=10)\n",
    "plt.ylabel(\"Trips Taken\", size=10)\n",
    "plt.title(\"Bay Wheels Rides by Day of Week\", size=18);"
   ]
  },
  {
   "cell_type": "markdown",
   "metadata": {},
   "source": [
    "Another very interesting pattern is revealed in this bar chart. Demand for the bikes is most significant, and remains relatively steady, during weekdays. The strongest days of the week are Tuesdays and Thursdays, and demand drops by close to 45% on Saturdays and Sundays, signifying that a large amount of Bay Area residents use Bay Wheels as a means to commute to and from work every day. The drop in demand on the weekends might signify that far less people use the bikes for leisurely purposes (e.g. exploring the city, going to and from different parts of town on the weekends). "
   ]
  },
  {
   "cell_type": "markdown",
   "metadata": {},
   "source": [
    "**Rides by Duration (in minutes)** "
   ]
  },
  {
   "cell_type": "code",
   "execution_count": 88,
   "metadata": {},
   "outputs": [
    {
     "data": {
      "text/plain": [
       "count    2.506983e+06\n",
       "mean     1.296946e+01\n",
       "std      3.291311e+01\n",
       "min      1.000000e+00\n",
       "25%      5.000000e+00\n",
       "50%      9.000000e+00\n",
       "75%      1.400000e+01\n",
       "max      1.520100e+04\n",
       "Name: duration_mins, dtype: float64"
      ]
     },
     "execution_count": 88,
     "metadata": {},
     "output_type": "execute_result"
    }
   ],
   "source": [
    "df_clean.duration_mins.describe(percentiles = [.95])\n",
    "df_clean.duration_mins.describe()"
   ]
  },
  {
   "cell_type": "code",
   "execution_count": 112,
   "metadata": {},
   "outputs": [
    {
     "data": {
      "image/png": "[encoded data removed]",
      "text/plain": [
       "<Figure size 432x288 with 1 Axes>"
      ]
     },
     "metadata": {
      "needs_background": "light"
     },
     "output_type": "display_data"
    }
   ],
   "source": [
    "#Since its a quantitative variable against another, we will be working with a histogram\n",
    "\n",
    "#We're sitting our bin edges from 0-45 (the maximum allotted time for a Bay Wheels member is 45 minutes per trip)\n",
    "bin_edges = np.arange(0, 45, 1)\n",
    "ticks = [0, 5, 10, 15, 20, 25, 30,  35, 40, 45]\n",
    "labels = ['{}'.format(val) for val in ticks]\n",
    "\n",
    "plt.hist(data = df_clean, x = 'duration_mins', bins = bin_edges)\n",
    "\n",
    "plt.title(\"Trip Duration in Minutes\", y=1.05, fontsize=18)\n",
    "plt.xlabel('Duration (minutes)', size = 10)\n",
    "plt.xticks(ticks, labels)\n",
    "plt.ylabel('Trips Taken', size =10)\n",
    "plt.axvline(df_clean.duration_mins.mean(), color='m', linestyle='dashed', linewidth=1.5);"
   ]
  },
  {
   "cell_type": "markdown",
   "metadata": {},
   "source": [
    "The histogram is sharply right skewed and provides pretty interesting insights. The mode seems to be somewhere between 5-7, meaning most trips that people take with Bay Wheels are between 5 to 7 minutes. The mean duration of trips seems to fall right at 12.5 minutes per trip, and the majority of our data lies under 20 minutes. Given that the maximum allotment of time is 45 minutes per ride, it is interesting to see that most rides are quite short, indicating that people use Bay Wheels mostly for short-distance commutes. "
   ]
  },
  {
   "cell_type": "markdown",
   "metadata": {},
   "source": [
    "**User Type**"
   ]
  },
  {
   "cell_type": "code",
   "execution_count": 141,
   "metadata": {},
   "outputs": [],
   "source": [
    "#Let's take a look at how user type varies\n",
    "user_type = df_clean.user_type.value_counts()"
   ]
  },
  {
   "cell_type": "code",
   "execution_count": 142,
   "metadata": {
    "scrolled": true
   },
   "outputs": [
    {
     "data": {
      "image/png": "[encoded data removed]",
      "text/plain": [
       "<Figure size 432x288 with 1 Axes>"
      ]
     },
     "metadata": {},
     "output_type": "display_data"
    }
   ],
   "source": [
    "#With a pie chart, we'll be able to see what the spread between the two categories looks like.\n",
    "\n",
    "plt.pie(user_type, labels = user_type.index, \n",
    "        startangle = 90, autopct= '%1.2f%%', counterclock = False, textprops={'color':'Black'});\n",
    "\n",
    "plt.title('Bay Wheels User Type', y=1.05, fontsize=18);"
   ]
  },
  {
   "cell_type": "markdown",
   "metadata": {},
   "source": [
    "Bay Wheels describes a 'Subscriber' as a member of the bike sharing service, and a 'Customer' as a casual user of the bike sharing service.\n",
    "\n",
    "As clearly depicted by the pie chart, there are far more subscribers than casual users (more than 80% of its users are subscribers), which indicates that their user base is largely comprised of local, repeat customers. Tourists would not see a need to subscribe to the service if visiting for a short period of time. Furthermore, we might assume that the majority of Bay Wheels' users tend to use this service frequently if they are able to justify a subscription."
   ]
  },
  {
   "cell_type": "markdown",
   "metadata": {},
   "source": [
    "### Discuss the distribution(s) of your variable(s) of interest. Were there any unusual points? Did you need to perform any transformations?\n",
    "\n",
    "Cleaning the data helped me get rid of any major anomalies and outliers. I also modified the histogram representing duration of trips to ensure that nothing above 45 minutes was counted (as this is the maximum allotted time). Very few of our data points exceeded this value, but the few trips that were over 45 minutes (including the maximum duration of approximately 15,000 minutes) heavily distorted our distribution and rendered my visualizations useless unless excluded.\n",
    "\n",
    "### Of the features you investigated, were there any unusual distributions? Did you perform any operations on the data to tidy, adjust, or change the form of the data? If so, why did you do this?\n",
    "\n",
    "Nothing was particularly outside of the spectrum of my expectations. I'm sure any comparable bike sharing company in a major city would have seen that commuters tend to use the service most, and that because of this, weekends tend to be less busy than weekdays. However, I was pretty surprised with the monthly pattern, and expected to see spring and summer months do definitively better than winter months (even though this was not the case). Because of this, I did not find it necessary to perform any transformations.\n"
   ]
  },
  {
   "cell_type": "markdown",
   "metadata": {},
   "source": [
    "## **Bi Variate Exploration**"
   ]
  },
  {
   "cell_type": "markdown",
   "metadata": {},
   "source": [
    "    This section will explore the relationships between two variables in the dataset. "
   ]
  },
  {
   "cell_type": "markdown",
   "metadata": {},
   "source": [
    "We can start by analyzing Customer & Subscriber behavior as two separate variables"
   ]
  },
  {
   "cell_type": "markdown",
   "metadata": {},
   "source": [
    "Earlier, we saw what times were Bay Wheel's busiest by exploring trips taken at each hour interval. Since we saw peaks (as expected) during rush hours on weekdays, and much less traffic during the weekends, we assumed most people use the service for daily commutes. To further my analysis, it would be helpful to see the behavior of those who subscribe to the service (i.e. use the service so much that they justify a subscription) versus the behavior of casual users of the service. If we consider casual users to be infrequent users, we can analyze when they rent the bikes to see what kind of uses they get from the service. We should also see how long they rent bikes for in comparison to subscribers. "
   ]
  },
  {
   "cell_type": "code",
   "execution_count": 163,
   "metadata": {},
   "outputs": [
    {
     "data": {
      "image/png": "[encoded data removed]",
      "text/plain": [
       "<Figure size 720x360 with 2 Axes>"
      ]
     },
     "metadata": {
      "needs_background": "light"
     },
     "output_type": "display_data"
    }
   ],
   "source": [
    "#We'll start by doing a side by side comparison of when casual users and subscribers rent the bikes\n",
    "colorr = sb.color_palette()[9]\n",
    "\n",
    "cust_vs_sub_time = sb.catplot(data=df_clean, x='start_hourofday', col=\"user_type\", kind='count', sharey = False, \n",
    "                              color = colorr)\n",
    "\n",
    "cust_vs_sub_time.set_axis_labels(\"Hour of Day\", \"Trips Taken\")\n",
    "cust_vs_sub_time.set_titles(\"{col_name}\")\n",
    "cust_vs_sub_time.fig.suptitle('Bay Wheels Rental Times: Customers vs. Subscribers', y= 1.1, fontsize=18)\n",
    "cust_vs_sub_time.set_xticklabels(rotation=0);"
   ]
  },
  {
   "cell_type": "markdown",
   "metadata": {},
   "source": [
    "**Similarities**: \n",
    "We see similar peaks and troughs in both charts, however, there is a significantly larger increase in demand during rush hours for subscribers. This is in line with our expectations, as any paid subscriber using this service will likely use it for daily commutes, such as going to and from work. Both customers and subscribers have relatively equal low demand periods as well, seeing little to no activity from 12AM-5AM, and lower levels of activity from 8PM onwards. \n",
    "\n",
    "**Differences**:\n",
    "There is a visible difference between customer and subscriber rental behavior lies between 10AM and 5PM. This might indicate that some customers are tourists and leisurely users, who are biking around the city throughout the day. However, this information alone is not enough to determine whether or not this is true."
   ]
  },
  {
   "cell_type": "code",
   "execution_count": 153,
   "metadata": {},
   "outputs": [
    {
     "data": {
      "image/png": "[encoded data removed]",
      "text/plain": [
       "<Figure size 720x360 with 2 Axes>"
      ]
     },
     "metadata": {
      "needs_background": "light"
     },
     "output_type": "display_data"
    }
   ],
   "source": [
    "#We should try seeing whether customers and subscribers have different demand patterns on weekends versus weekdays.\n",
    "#We will do this using another bar chart\n",
    "colorr1 = sb.color_palette()[8]\n",
    "weekday = ['Mon', 'Tue', 'Wed', 'Thu', 'Fri', 'Sat', 'Sun']\n",
    "\n",
    "cust_vs_sub_day = sb.catplot(data=df_clean, x='start_dayofweek', col=\"user_type\", kind='count', sharey = True, \n",
    "                              color = colorr1, order = weekday)\n",
    "\n",
    "cust_vs_sub_day.set_axis_labels(\"Day of Week\", \"Trips Taken\")\n",
    "cust_vs_sub_day.set_titles(\"{col_name}\")\n",
    "cust_vs_sub_day.fig.suptitle('Bay Wheels Daily Rentals: Customers vs. Subscribers', y= 1.1, fontsize=18)\n",
    "cust_vs_sub_day.set_xticklabels(rotation=90);"
   ]
  },
  {
   "cell_type": "markdown",
   "metadata": {},
   "source": [
    "Interestingly, demand stays relatuvely constant for customers on all days of the week (including the weekends). This is in stark contrast to subscribers, who clearly use the service far more for work commuting than customers given the dramatic drop in demand on weekends."
   ]
  },
  {
   "cell_type": "code",
   "execution_count": 176,
   "metadata": {},
   "outputs": [
    {
     "data": {
      "image/png": "[encoded data removed]",
      "text/plain": [
       "<Figure size 1008x576 with 1 Axes>"
      ]
     },
     "metadata": {
      "needs_background": "light"
     },
     "output_type": "display_data"
    }
   ],
   "source": [
    "#We can also use a line chart to see what demand looks like on a monthly basis for both user types\n",
    "\n",
    "plt.figure(figsize=(14, 8))\n",
    "monthly = ['Jan', 'Feb', 'Mar', 'Apr', 'May', 'Jun', 'Jul', 'Aug', 'Sep', 'Oct', 'Nov', 'Dec']\n",
    "\n",
    "user_monthly_data = df_clean.groupby(['month', 'user_type']).size().reset_index()\n",
    "\n",
    "user_monthly_line_chart = sb.pointplot(data=user_monthly_data, x='month', hue = 'user_type', y=0, scale=.7, \n",
    "                                      order = monthly)\n",
    "\n",
    "plt.title('Bay Wheels Monthly Usage: Customers vs. Subscribers', y=1.01, fontsize=18)\n",
    "plt.xlabel('Weekdays')\n",
    "plt.ylabel('Number of Bike Trips')\n",
    "axis = plt.gca()\n",
    "legend = axis.legend()\n",
    "legend.set_title('User Type',prop={'size':11})\n",
    "plt.grid();"
   ]
  },
  {
   "cell_type": "markdown",
   "metadata": {},
   "source": [
    "Demand starts off slow in the winter months of January and February for both user types, and dramatically increases in March. Demand slows in April and abruptly increases during the summer months for both user types. Interestingly, unlike subscribers, customers see an increase in demand up until October (which might be attributed to summer tourism). \n",
    "\n",
    "Another interesting observation is that subscriber demand dramatically falls for November and December, while customer demand reaches its peak during this period. This stark contrast in behavior suggests that holiday tourism increases demand for bike rentals in the Bay Area (among casual users who do not need a subscription), while subscribers either leave the Bay Area for the holidays, or do not use the service for commutes during this period of time. "
   ]
  },
  {
   "cell_type": "code",
   "execution_count": 166,
   "metadata": {
    "scrolled": true
   },
   "outputs": [
    {
     "data": {
      "image/png": "[encoded data removed]",
      "text/plain": [
       "<Figure size 1440x360 with 2 Axes>"
      ]
     },
     "metadata": {
      "needs_background": "light"
     },
     "output_type": "display_data"
    }
   ],
   "source": [
    "#Finally, our last comparative analysis of customers vs. subscribers will have to do with trip duration in minutes\n",
    "colorr2 = sb.color_palette()[4]\n",
    "cust_vs_sub_duration = df_clean.query('duration_mins <= 45')\n",
    "\n",
    "cust_vs_sub_duration_plot = sb.catplot(data=cust_vs_sub_duration, x = 'duration_mins', col='user_type',\n",
    "                                       kind='count', sharey = False, color = colorr2, aspect=2)\n",
    "\n",
    "cust_vs_sub_duration_plot.set_axis_labels('Duration (Minutes)', 'Trips Taken')\n",
    "cust_vs_sub_duration_plot.set_titles('{col_name}')\n",
    "cust_vs_sub_duration_plot.fig.suptitle('Customer vs. Subscribe Ride Duration', y=1.1, fontsize=18)\n",
    "cust_vs_sub_duration_plot.set_xticklabels(rotation=90);"
   ]
  },
  {
   "cell_type": "markdown",
   "metadata": {},
   "source": [
    "Both of the charts show us that there is a strong preference for shorter rides, with the mode at around 5 minutes for subscribers, and 8 minutes for customers. A higher proportioner of customers use the bikes for longer than 20 minutes than subscribers, but there is definitely a preference for shorter trips on both sides. We can inspect this further by plotting average trip duration for customers vs. subscribers."
   ]
  },
  {
   "cell_type": "code",
   "execution_count": 184,
   "metadata": {},
   "outputs": [
    {
     "data": {
      "image/png": "[encoded data removed]",
      "text/plain": [
       "<Figure size 864x288 with 1 Axes>"
      ]
     },
     "metadata": {
      "needs_background": "light"
     },
     "output_type": "display_data"
    }
   ],
   "source": [
    "#Let's set the duration to a maximum of 30 minutes to zoom in on the difference.\n",
    "colors=['Teal', 'Purple']\n",
    "axis = df_clean.groupby('user_type')['duration_mins'].mean().plot(kind='barh', color=colors, figsize=(12,4))\n",
    "\n",
    "axis.set_title('Average Trip Duration: Customers vs. Subscribers', fontsize=18, y=1.1)\n",
    "axis.set_ylabel('User Type', labelpad=14)\n",
    "axis.set_xlabel('Duration (minutes)', labelpad=14);"
   ]
  },
  {
   "cell_type": "markdown",
   "metadata": {},
   "source": [
    "This bar chart highlights the difference in trip durations between customers and subscribers far more clearly than our previous chart. Our previous chart shows a relatively similar distribution with an inclination for both customers and subscribers to take shorter trips, but this chart shows us that, on average, customers take trips that are twice as long as subscribers."
   ]
  },
  {
   "cell_type": "markdown",
   "metadata": {},
   "source": [
    "### **Talk about some of the relationships you observed in this part of the investigation. How did the feature(s) of interest vary with other features in the dataset?** \n",
    "\n",
    "A bi variate analysis of the two user types was extremely useful in highlighting the key behavioral differences between Customers and Subscribers. \n",
    "\n",
    "My analysis of the hourly, daily and monthly usage of this service by both customers and subscribers have allowed me to make the following assumptions:\n",
    "- Subscribers tend to use the rentals more for daily commutes to work (demand is centered around rush hours for this cohort).\n",
    "- Subscribers, unsurprisingly, are less likely to use the service during holiday season (November through December) as they have less working days, and could also leave the city for the holiday season.\n",
    "- Customer usage peaks during holiday season, which might indicate that a good proportion of customers are out-of-town tourists (or people visiting family and friends in the Bay Area for holiday season). This theory is supported by the fact that weekend usage does not significantly decline for customers, and demand remains relatively steady throughout the week."
   ]
  },
  {
   "cell_type": "markdown",
   "metadata": {},
   "source": [
    "### **Did you observe any interesting relationships between the other features (not the main feature(s) of interest)?**\n",
    "Customers, on average, spend twice as long as subscribers using the service, which might indicate leisurely use, as they are not in as much of a rush to reach their destinations as subscribers might be. Additionally, winter weather (especially in January and February) is negatively associated with demand for both customers and subscribers.\n"
   ]
  },
  {
   "cell_type": "markdown",
   "metadata": {},
   "source": [
    "## Multivariate Exploration"
   ]
  },
  {
   "cell_type": "markdown",
   "metadata": {},
   "source": [
    "        In this section I will explore the relationship between three or more variables to dig deeper for insights."
   ]
  },
  {
   "cell_type": "markdown",
   "metadata": {},
   "source": [
    "Since I have spent the majority of the project analyzing time-related data, I will continue on the theme. Heat maps are a great way to visualize multiple variables, especially as they relate to time or location. I will be generating two heat maps that analyze the busiest days and hours for each user type."
   ]
  },
  {
   "cell_type": "code",
   "execution_count": 250,
   "metadata": {
    "scrolled": true
   },
   "outputs": [
    {
     "data": {
      "image/png": "[encoded data removed]",
      "text/plain": [
       "<Figure size 432x288 with 2 Axes>"
      ]
     },
     "metadata": {
      "needs_background": "light"
     },
     "output_type": "display_data"
    }
   ],
   "source": [
    "#We'll start off with creating a heat map for Subscribers to illustrate busiest times and days.\n",
    "\n",
    "sub_timedata = df_clean.query('user_type == \"Subscriber\"').groupby(['start_dayofweek',\n",
    "                                                    'start_hourofday'])['bike_id'].size().reset_index()\n",
    "sub_timedata['start_dayofweek'] = pd.Categorical(sub_timedata['start_dayofweek'],\n",
    "                                     categories=['Mon','Tue','Wed','Thu','Fri','Sat', 'Sun'], ordered=True)\n",
    "sub_timedata = sub_timedata.pivot('start_hourofday', 'start_dayofweek', 'bike_id')\n",
    "\n",
    "sub_heatmap = sb.heatmap(sub_timedata, cmap = 'YlOrBr')\n",
    "\n",
    "plt.title(\"Subscriber Usage Heat Map\", y=1.4, fontsize=14)\n",
    "plt.xlabel('Day of Week', labelpad = 16)\n",
    "plt.ylabel('Hour Started', labelpad = 16);\n",
    "\n",
    "plt.show()"
   ]
  },
  {
   "cell_type": "markdown",
   "metadata": {},
   "source": [
    "In the subscriber usage heat map above, we are able to amalgamate the separate data from previous sections, and view everything in one visual. The darkness that forms between 7am-10am and 5pm-7pm on weekdays is a clear sign that subscriber user traffic is primarily based around work-related daily commuting. Demand is far weaker during any other time on the graph, and we do not see high traffic (based on color scheme) on weekends compared to weekdays."
   ]
  },
  {
   "cell_type": "code",
   "execution_count": 258,
   "metadata": {},
   "outputs": [
    {
     "data": {
      "image/png": "[encoded data removed]",
      "text/plain": [
       "<Figure size 432x288 with 2 Axes>"
      ]
     },
     "metadata": {
      "needs_background": "light"
     },
     "output_type": "display_data"
    }
   ],
   "source": [
    "#We will compare this data with customer data of the same nature\n",
    "\n",
    "cust_timedata = df_clean.query('user_type == \"Customer\"').groupby(['start_hourofday',\n",
    "                                'start_dayofweek'])['bike_id'].size().reset_index()\n",
    "cust_timedata['start_dayofweek'] = pd.Categorical(cust_timedata['start_dayofweek'],\n",
    "                                     categories=['Mon','Tue','Wed','Thu','Fri','Sat', 'Sun'], ordered=True)\n",
    "cust_timedata = cust_timedata.pivot('start_hourofday', 'start_dayofweek', 'bike_id')\n",
    "\n",
    "sub_heatmap = sb.heatmap(cust_timedata, cmap = 'YlOrBr')\n",
    "\n",
    "plt.title(\"Customer Usage Heat Map\", y=1.4, fontsize=14)\n",
    "plt.xlabel('Day of Week', labelpad = 16)\n",
    "plt.ylabel('Hour Started', labelpad = 16);\n",
    "\n",
    "plt.show()"
   ]
  },
  {
   "cell_type": "markdown",
   "metadata": {},
   "source": [
    "The customer usage heat map tells us a different story than the subscriber heatmap. Demand is still strongest around commuting hours, much like the subscriber map, but we see a softer contrast between rush-hour traffic and traffic between the hours of 10AM-4PM. Additionally, weekend traffic (especially during the early afternoon) is quite strong, indicating that a larger proportion of customers use the service for leisure than subscribers."
   ]
  },
  {
   "cell_type": "code",
   "execution_count": 262,
   "metadata": {
    "scrolled": true
   },
   "outputs": [
    {
     "name": "stderr",
     "output_type": "stream",
     "text": [
      "/Users/talaldawudi/opt/anaconda3/lib/python3.7/site-packages/ipykernel_launcher.py:5: SettingWithCopyWarning: \n",
      "A value is trying to be set on a copy of a slice from a DataFrame.\n",
      "Try using .loc[row_indexer,col_indexer] = value instead\n",
      "\n",
      "See the caveats in the documentation: https://pandas.pydata.org/pandas-docs/stable/user_guide/indexing.html#returning-a-view-versus-a-copy\n",
      "  \"\"\"\n"
     ]
    },
    {
     "data": {
      "text/plain": [
       "Text(0.5, 1.05, 'Trip Duration by Day of Week')"
      ]
     },
     "execution_count": 262,
     "metadata": {},
     "output_type": "execute_result"
    },
    {
     "data": {
      "image/png": "[encoded data removed]",
      "text/plain": [
       "<Figure size 809.125x360 with 1 Axes>"
      ]
     },
     "metadata": {
      "needs_background": "light"
     },
     "output_type": "display_data"
    }
   ],
   "source": [
    "# To further explore trip duration, we'll create a Violin plot to see how duration varies by day of week and user type.\n",
    "\n",
    "cust_vs_sub_duration = df_clean.query('duration_mins <= 45')\n",
    "cust_vs_sub_duration['start_dayofweek'] = pd.Categorical(cust_vs_sub_duration['start_dayofweek'],\n",
    "                                     categories=['Mon','Tue','Wed','Thu','Fri','Sat', 'Sun'], ordered=True)\n",
    "\n",
    "graph = sb.catplot(data=cust_vs_sub_duration, x='start_dayofweek', y=\"duration_mins\", \n",
    "                   hue=\"user_type\", kind=\"violin\", height=5, aspect=2)\n",
    "\n",
    "graph.set_axis_labels(\"Day of Week\", \"Trip Duration (Mins)\")\n",
    "graph._legend.set_title('User Type')\n",
    "graph.fig.suptitle('Trip Duration by Day of Week', y=1.05, fontsize=16);"
   ]
  },
  {
   "cell_type": "markdown",
   "metadata": {},
   "source": [
    "This violin plot expands on our study of the difference in trip duration between customers and subscribers, but does so by adding an additional element: the day of the week. Adding this new dimension of exploration helps us see whether the pattern of customers taking longer trips (from previous section) varies based on the day of the week. On all days of the week, including the weekend, customers take, on average, longer trips than subscribers, and the difference in trip time is even more exaggerated on the weekend (see Sunday). However, as expected, subscribers take noticeably more time biking on weekends versus weekdays."
   ]
  },
  {
   "cell_type": "markdown",
   "metadata": {},
   "source": [
    "### **Talk about some of the relationships you observed in this part of the investigation. Were there features that strengthened each other in terms of looking at your feature(s) of interest?**\n",
    "\n",
    "Given the limited scope of the data (especially with regards to user demographics), I decided to dive deeper into the exploration of the time-related data. This data is important in helping us make assumptions about the reasons why people use the bike sharing service. A deeper look at the hourly and daily start times only confirmed what was initially apparent: subscribers tend to use the bike sharing service for daily work commutes (as indicated by busy rush hours and low activity on weekends). Creating a heat map helped display these variables more clearly, and provide a visual indication of the busiest times for the service.\n",
    "\n",
    "### **Were there any interesting or surprising interactions between features?**\n",
    "I was not particularly surprised by any of the interactions in heatmaps, as they are in line with my expectations for commuting options are in a large metropolis. However, it is still very interesting to see what the demand patterns look like, and adding the trip duration as a variable for my violin chart was especially helpful in seeing day-to-day variation."
   ]
  }
 ],
 "metadata": {
  "kernelspec": {
   "display_name": "Python 3",
   "language": "python",
   "name": "python3"
  },
  "language_info": {
   "codemirror_mode": {
    "name": "ipython",
    "version": 3
   },
   "file_extension": ".py",
   "mimetype": "text/x-python",
   "name": "python",
   "nbconvert_exporter": "python",
   "pygments_lexer": "ipython3",
   "version": "3.7.6"
  }
 },
 "nbformat": 4,
 "nbformat_minor": 4
}
